{
 "cells": [
  {
   "cell_type": "markdown",
   "id": "36cd6a01-55f6-4aee-b375-bbfb4896e262",
   "metadata": {},
   "source": [
    "Я смог приступить к заданию только на выходных. Большую модель за это время не обучишь. Поэтому я решил воспользоваться Catboost-ом, который к тому же можно fit-ить на gpu."
   ]
  },
  {
   "cell_type": "markdown",
   "id": "fb4d04d2",
   "metadata": {},
   "source": [
    "# READ DATA"
   ]
  },
  {
   "cell_type": "code",
   "execution_count": 1,
   "id": "dbfe2575",
   "metadata": {},
   "outputs": [],
   "source": [
    "import pandas as pd\n",
    "import numpy as np"
   ]
  },
  {
   "cell_type": "code",
   "execution_count": 3,
   "id": "eacf78f9",
   "metadata": {},
   "outputs": [],
   "source": [
    "df = pd.read_csv(\"intern_task.csv\")"
   ]
  },
  {
   "cell_type": "markdown",
   "id": "b79820cc",
   "metadata": {},
   "source": [
    "Уберем стобцы, содержащие одно значение."
   ]
  },
  {
   "cell_type": "code",
   "execution_count": 4,
   "id": "13bfbc54",
   "metadata": {},
   "outputs": [
    {
     "data": {
      "text/plain": [
       "['feature_64', 'feature_65', 'feature_72', 'feature_100']"
      ]
     },
     "execution_count": 4,
     "metadata": {},
     "output_type": "execute_result"
    }
   ],
   "source": [
    "cols1 = [col for col in df.columns.values.tolist() if len(np.unique(df[col].values)) == 1]\n",
    "cols1"
   ]
  },
  {
   "cell_type": "code",
   "execution_count": 5,
   "id": "8896ea88",
   "metadata": {},
   "outputs": [
    {
     "data": {
      "text/plain": [
       "(235258, 142)"
      ]
     },
     "execution_count": 5,
     "metadata": {},
     "output_type": "execute_result"
    }
   ],
   "source": [
    "df = df.drop(columns=cols1)\n",
    "df.shape"
   ]
  },
  {
   "cell_type": "code",
   "execution_count": 6,
   "id": "dd25006d",
   "metadata": {},
   "outputs": [
    {
     "data": {
      "text/html": [
       "<div>\n",
       "<style scoped>\n",
       "    .dataframe tbody tr th:only-of-type {\n",
       "        vertical-align: middle;\n",
       "    }\n",
       "\n",
       "    .dataframe tbody tr th {\n",
       "        vertical-align: top;\n",
       "    }\n",
       "\n",
       "    .dataframe thead th {\n",
       "        text-align: right;\n",
       "    }\n",
       "</style>\n",
       "<table border=\"1\" class=\"dataframe\">\n",
       "  <thead>\n",
       "    <tr style=\"text-align: right;\">\n",
       "      <th></th>\n",
       "      <th>rank</th>\n",
       "      <th>query_id</th>\n",
       "      <th>feature_0</th>\n",
       "      <th>feature_1</th>\n",
       "      <th>feature_2</th>\n",
       "      <th>feature_3</th>\n",
       "      <th>feature_4</th>\n",
       "      <th>feature_5</th>\n",
       "      <th>feature_6</th>\n",
       "      <th>feature_7</th>\n",
       "      <th>...</th>\n",
       "      <th>feature_134</th>\n",
       "      <th>feature_135</th>\n",
       "      <th>feature_136</th>\n",
       "      <th>feature_137</th>\n",
       "      <th>feature_138</th>\n",
       "      <th>feature_139</th>\n",
       "      <th>feature_140</th>\n",
       "      <th>feature_141</th>\n",
       "      <th>feature_142</th>\n",
       "      <th>feature_143</th>\n",
       "    </tr>\n",
       "  </thead>\n",
       "  <tbody>\n",
       "    <tr>\n",
       "      <th>0</th>\n",
       "      <td>0</td>\n",
       "      <td>10</td>\n",
       "      <td>1.0</td>\n",
       "      <td>0.0</td>\n",
       "      <td>1.0</td>\n",
       "      <td>3.0</td>\n",
       "      <td>3.0</td>\n",
       "      <td>0.333333</td>\n",
       "      <td>0.0</td>\n",
       "      <td>0.333333</td>\n",
       "      <td>...</td>\n",
       "      <td>0.0</td>\n",
       "      <td>0.000000</td>\n",
       "      <td>0.454545</td>\n",
       "      <td>0.890238</td>\n",
       "      <td>8.655534</td>\n",
       "      <td>1.000000</td>\n",
       "      <td>0.077778</td>\n",
       "      <td>0.002222</td>\n",
       "      <td>1.0</td>\n",
       "      <td>0.333333</td>\n",
       "    </tr>\n",
       "    <tr>\n",
       "      <th>1</th>\n",
       "      <td>1</td>\n",
       "      <td>10</td>\n",
       "      <td>3.0</td>\n",
       "      <td>0.0</td>\n",
       "      <td>3.0</td>\n",
       "      <td>0.0</td>\n",
       "      <td>3.0</td>\n",
       "      <td>1.000000</td>\n",
       "      <td>0.0</td>\n",
       "      <td>1.000000</td>\n",
       "      <td>...</td>\n",
       "      <td>0.0</td>\n",
       "      <td>0.000000</td>\n",
       "      <td>0.000000</td>\n",
       "      <td>0.773976</td>\n",
       "      <td>23.130514</td>\n",
       "      <td>0.000000</td>\n",
       "      <td>0.027826</td>\n",
       "      <td>0.000430</td>\n",
       "      <td>44.0</td>\n",
       "      <td>14.666667</td>\n",
       "    </tr>\n",
       "    <tr>\n",
       "      <th>2</th>\n",
       "      <td>0</td>\n",
       "      <td>10</td>\n",
       "      <td>3.0</td>\n",
       "      <td>0.0</td>\n",
       "      <td>2.0</td>\n",
       "      <td>0.0</td>\n",
       "      <td>3.0</td>\n",
       "      <td>1.000000</td>\n",
       "      <td>0.0</td>\n",
       "      <td>0.666667</td>\n",
       "      <td>...</td>\n",
       "      <td>0.0</td>\n",
       "      <td>0.000000</td>\n",
       "      <td>0.000000</td>\n",
       "      <td>0.918308</td>\n",
       "      <td>13.351339</td>\n",
       "      <td>0.000000</td>\n",
       "      <td>0.014925</td>\n",
       "      <td>0.000104</td>\n",
       "      <td>22.0</td>\n",
       "      <td>7.333333</td>\n",
       "    </tr>\n",
       "    <tr>\n",
       "      <th>3</th>\n",
       "      <td>1</td>\n",
       "      <td>10</td>\n",
       "      <td>3.0</td>\n",
       "      <td>0.0</td>\n",
       "      <td>3.0</td>\n",
       "      <td>0.0</td>\n",
       "      <td>3.0</td>\n",
       "      <td>1.000000</td>\n",
       "      <td>0.0</td>\n",
       "      <td>1.000000</td>\n",
       "      <td>...</td>\n",
       "      <td>0.0</td>\n",
       "      <td>0.000000</td>\n",
       "      <td>0.000000</td>\n",
       "      <td>0.975355</td>\n",
       "      <td>18.240926</td>\n",
       "      <td>0.000000</td>\n",
       "      <td>0.053140</td>\n",
       "      <td>0.000255</td>\n",
       "      <td>8.0</td>\n",
       "      <td>2.666667</td>\n",
       "    </tr>\n",
       "    <tr>\n",
       "      <th>4</th>\n",
       "      <td>2</td>\n",
       "      <td>10</td>\n",
       "      <td>3.0</td>\n",
       "      <td>0.0</td>\n",
       "      <td>3.0</td>\n",
       "      <td>1.0</td>\n",
       "      <td>3.0</td>\n",
       "      <td>1.000000</td>\n",
       "      <td>0.0</td>\n",
       "      <td>1.000000</td>\n",
       "      <td>...</td>\n",
       "      <td>273.0</td>\n",
       "      <td>79.670665</td>\n",
       "      <td>0.200000</td>\n",
       "      <td>0.990119</td>\n",
       "      <td>31.786048</td>\n",
       "      <td>0.333333</td>\n",
       "      <td>0.046512</td>\n",
       "      <td>0.000307</td>\n",
       "      <td>24.0</td>\n",
       "      <td>8.000000</td>\n",
       "    </tr>\n",
       "  </tbody>\n",
       "</table>\n",
       "<p>5 rows × 142 columns</p>\n",
       "</div>"
      ],
      "text/plain": [
       "   rank  query_id  feature_0  feature_1  feature_2  feature_3  feature_4  \\\n",
       "0     0        10        1.0        0.0        1.0        3.0        3.0   \n",
       "1     1        10        3.0        0.0        3.0        0.0        3.0   \n",
       "2     0        10        3.0        0.0        2.0        0.0        3.0   \n",
       "3     1        10        3.0        0.0        3.0        0.0        3.0   \n",
       "4     2        10        3.0        0.0        3.0        1.0        3.0   \n",
       "\n",
       "   feature_5  feature_6  feature_7  ...  feature_134  feature_135  \\\n",
       "0   0.333333        0.0   0.333333  ...          0.0     0.000000   \n",
       "1   1.000000        0.0   1.000000  ...          0.0     0.000000   \n",
       "2   1.000000        0.0   0.666667  ...          0.0     0.000000   \n",
       "3   1.000000        0.0   1.000000  ...          0.0     0.000000   \n",
       "4   1.000000        0.0   1.000000  ...        273.0    79.670665   \n",
       "\n",
       "   feature_136  feature_137  feature_138  feature_139  feature_140  \\\n",
       "0     0.454545     0.890238     8.655534     1.000000     0.077778   \n",
       "1     0.000000     0.773976    23.130514     0.000000     0.027826   \n",
       "2     0.000000     0.918308    13.351339     0.000000     0.014925   \n",
       "3     0.000000     0.975355    18.240926     0.000000     0.053140   \n",
       "4     0.200000     0.990119    31.786048     0.333333     0.046512   \n",
       "\n",
       "   feature_141  feature_142  feature_143  \n",
       "0     0.002222          1.0     0.333333  \n",
       "1     0.000430         44.0    14.666667  \n",
       "2     0.000104         22.0     7.333333  \n",
       "3     0.000255          8.0     2.666667  \n",
       "4     0.000307         24.0     8.000000  \n",
       "\n",
       "[5 rows x 142 columns]"
      ]
     },
     "execution_count": 6,
     "metadata": {},
     "output_type": "execute_result"
    }
   ],
   "source": [
    "df.head()"
   ]
  },
  {
   "cell_type": "markdown",
   "id": "9de75c06",
   "metadata": {},
   "source": [
    "# SPLIT DATA"
   ]
  },
  {
   "cell_type": "code",
   "execution_count": 7,
   "id": "0a34a136",
   "metadata": {},
   "outputs": [],
   "source": [
    "from sklearn.model_selection import train_test_split\n",
    "from catboost import Pool, FeaturesData"
   ]
  },
  {
   "cell_type": "markdown",
   "id": "cd4eaf32",
   "metadata": {},
   "source": [
    "Хотим, чтобы в train i test было одинвое соотношение 'query_id' и соответсвующих им 'rank'. Для этого создадим вспомогательный столбец."
   ]
  },
  {
   "cell_type": "code",
   "execution_count": 8,
   "id": "86a0f69f",
   "metadata": {},
   "outputs": [],
   "source": [
    "df['tmp'] = df['query_id'].astype(str) + '_' + df['rank'].astype(str)"
   ]
  },
  {
   "cell_type": "markdown",
   "id": "09e5c569",
   "metadata": {},
   "source": [
    "Значения, которые содержатся в вспомогательном стоблце только один раз, будут мешать, когда будем делить на test и train."
   ]
  },
  {
   "cell_type": "code",
   "execution_count": 9,
   "id": "e04def60",
   "metadata": {},
   "outputs": [
    {
     "data": {
      "text/plain": [
       "702"
      ]
     },
     "execution_count": 9,
     "metadata": {},
     "output_type": "execute_result"
    }
   ],
   "source": [
    "vals, counts = np.unique(df['tmp'].values, return_counts=True)\n",
    "one_q_rank_vals = vals[counts == 1]\n",
    "len(one_q_rank_vals)"
   ]
  },
  {
   "cell_type": "markdown",
   "id": "b31f080b",
   "metadata": {},
   "source": [
    "Таких строк 702. Это меньше 1% от размера train, если возьмем 0.8. Извлечем их и добавим потом в train."
   ]
  },
  {
   "cell_type": "code",
   "execution_count": 10,
   "id": "43c8aa19",
   "metadata": {},
   "outputs": [
    {
     "data": {
      "text/html": [
       "<div>\n",
       "<style scoped>\n",
       "    .dataframe tbody tr th:only-of-type {\n",
       "        vertical-align: middle;\n",
       "    }\n",
       "\n",
       "    .dataframe tbody tr th {\n",
       "        vertical-align: top;\n",
       "    }\n",
       "\n",
       "    .dataframe thead th {\n",
       "        text-align: right;\n",
       "    }\n",
       "</style>\n",
       "<table border=\"1\" class=\"dataframe\">\n",
       "  <thead>\n",
       "    <tr style=\"text-align: right;\">\n",
       "      <th></th>\n",
       "      <th>rank</th>\n",
       "      <th>query_id</th>\n",
       "      <th>feature_0</th>\n",
       "      <th>feature_1</th>\n",
       "      <th>feature_2</th>\n",
       "      <th>feature_3</th>\n",
       "      <th>feature_4</th>\n",
       "      <th>feature_5</th>\n",
       "      <th>feature_6</th>\n",
       "      <th>feature_7</th>\n",
       "      <th>...</th>\n",
       "      <th>feature_135</th>\n",
       "      <th>feature_136</th>\n",
       "      <th>feature_137</th>\n",
       "      <th>feature_138</th>\n",
       "      <th>feature_139</th>\n",
       "      <th>feature_140</th>\n",
       "      <th>feature_141</th>\n",
       "      <th>feature_142</th>\n",
       "      <th>feature_143</th>\n",
       "      <th>tmp</th>\n",
       "    </tr>\n",
       "  </thead>\n",
       "  <tbody>\n",
       "    <tr>\n",
       "      <th>58</th>\n",
       "      <td>3</td>\n",
       "      <td>10</td>\n",
       "      <td>3.0</td>\n",
       "      <td>0.0</td>\n",
       "      <td>3.0</td>\n",
       "      <td>0.0</td>\n",
       "      <td>3.0</td>\n",
       "      <td>1.0</td>\n",
       "      <td>0.0</td>\n",
       "      <td>1.0</td>\n",
       "      <td>...</td>\n",
       "      <td>0.000000</td>\n",
       "      <td>0.0</td>\n",
       "      <td>0.995898</td>\n",
       "      <td>18.240926</td>\n",
       "      <td>0.0</td>\n",
       "      <td>0.038314</td>\n",
       "      <td>0.000010</td>\n",
       "      <td>27.0</td>\n",
       "      <td>9.000000</td>\n",
       "      <td>10_3</td>\n",
       "    </tr>\n",
       "    <tr>\n",
       "      <th>287</th>\n",
       "      <td>4</td>\n",
       "      <td>55</td>\n",
       "      <td>2.0</td>\n",
       "      <td>0.0</td>\n",
       "      <td>2.0</td>\n",
       "      <td>0.0</td>\n",
       "      <td>2.0</td>\n",
       "      <td>1.0</td>\n",
       "      <td>0.0</td>\n",
       "      <td>1.0</td>\n",
       "      <td>...</td>\n",
       "      <td>0.000000</td>\n",
       "      <td>0.0</td>\n",
       "      <td>0.868605</td>\n",
       "      <td>20.207206</td>\n",
       "      <td>0.0</td>\n",
       "      <td>0.157895</td>\n",
       "      <td>0.005917</td>\n",
       "      <td>4.0</td>\n",
       "      <td>2.000000</td>\n",
       "      <td>55_4</td>\n",
       "    </tr>\n",
       "    <tr>\n",
       "      <th>345</th>\n",
       "      <td>3</td>\n",
       "      <td>70</td>\n",
       "      <td>3.0</td>\n",
       "      <td>0.0</td>\n",
       "      <td>0.0</td>\n",
       "      <td>0.0</td>\n",
       "      <td>3.0</td>\n",
       "      <td>1.0</td>\n",
       "      <td>0.0</td>\n",
       "      <td>0.0</td>\n",
       "      <td>...</td>\n",
       "      <td>7.016017</td>\n",
       "      <td>0.0</td>\n",
       "      <td>0.990179</td>\n",
       "      <td>0.000000</td>\n",
       "      <td>0.0</td>\n",
       "      <td>0.024155</td>\n",
       "      <td>0.000013</td>\n",
       "      <td>10.0</td>\n",
       "      <td>3.333333</td>\n",
       "      <td>70_3</td>\n",
       "    </tr>\n",
       "  </tbody>\n",
       "</table>\n",
       "<p>3 rows × 143 columns</p>\n",
       "</div>"
      ],
      "text/plain": [
       "     rank  query_id  feature_0  feature_1  feature_2  feature_3  feature_4  \\\n",
       "58      3        10        3.0        0.0        3.0        0.0        3.0   \n",
       "287     4        55        2.0        0.0        2.0        0.0        2.0   \n",
       "345     3        70        3.0        0.0        0.0        0.0        3.0   \n",
       "\n",
       "     feature_5  feature_6  feature_7  ...  feature_135  feature_136  \\\n",
       "58         1.0        0.0        1.0  ...     0.000000          0.0   \n",
       "287        1.0        0.0        1.0  ...     0.000000          0.0   \n",
       "345        1.0        0.0        0.0  ...     7.016017          0.0   \n",
       "\n",
       "     feature_137  feature_138  feature_139  feature_140  feature_141  \\\n",
       "58      0.995898    18.240926          0.0     0.038314     0.000010   \n",
       "287     0.868605    20.207206          0.0     0.157895     0.005917   \n",
       "345     0.990179     0.000000          0.0     0.024155     0.000013   \n",
       "\n",
       "     feature_142  feature_143   tmp  \n",
       "58          27.0     9.000000  10_3  \n",
       "287          4.0     2.000000  55_4  \n",
       "345         10.0     3.333333  70_3  \n",
       "\n",
       "[3 rows x 143 columns]"
      ]
     },
     "execution_count": 10,
     "metadata": {},
     "output_type": "execute_result"
    }
   ],
   "source": [
    "df_one_q_rank = df[df['tmp'].isin(one_q_rank_vals)]\n",
    "df_one_q_rank.head(3)"
   ]
  },
  {
   "cell_type": "code",
   "execution_count": 11,
   "id": "494b6b90",
   "metadata": {},
   "outputs": [],
   "source": [
    "df_for_split = df.drop(index=df_one_q_rank.index)#.reset_index(drop=True)"
   ]
  },
  {
   "cell_type": "code",
   "execution_count": 12,
   "id": "9d38a0fa",
   "metadata": {},
   "outputs": [],
   "source": [
    "data_tr_val, data_test = train_test_split(df_for_split,\n",
    "                                          train_size=0.8,\n",
    "                                          random_state=42,\n",
    "                                          stratify=df_for_split[\"tmp\"]\n",
    "                                         )"
   ]
  },
  {
   "cell_type": "code",
   "execution_count": 13,
   "id": "db1b984d",
   "metadata": {},
   "outputs": [],
   "source": [
    "data_tr_val = pd.concat([data_tr_val, df_one_q_rank])"
   ]
  },
  {
   "cell_type": "code",
   "execution_count": 14,
   "id": "27c0e282",
   "metadata": {},
   "outputs": [],
   "source": [
    "data_tr, data_val = train_test_split(data_tr_val,\n",
    "                                     train_size=0.8,\n",
    "                                     random_state=42\n",
    "                                    )"
   ]
  },
  {
   "cell_type": "code",
   "execution_count": 15,
   "id": "d4862d41",
   "metadata": {},
   "outputs": [
    {
     "data": {
      "text/plain": [
       "True"
      ]
     },
     "execution_count": 15,
     "metadata": {},
     "output_type": "execute_result"
    }
   ],
   "source": [
    "data_tr.shape[0] + data_val.shape[0] + data_test.shape[0] == df.shape[0]"
   ]
  },
  {
   "cell_type": "markdown",
   "id": "5c50944b",
   "metadata": {},
   "source": [
    "Для использования Ranker необходимо, чтобы элементы с одинаковыми 'query_id' были сгруппированы. В изначальнои датасете так и было, так что просто отсортируем по индексам."
   ]
  },
  {
   "cell_type": "code",
   "execution_count": 16,
   "id": "77a33ce3",
   "metadata": {},
   "outputs": [],
   "source": [
    "data_tr.sort_index(inplace=True)\n",
    "data_val.sort_index(inplace=True)\n",
    "data_test.sort_index(inplace=True)"
   ]
  },
  {
   "cell_type": "markdown",
   "id": "3c3e2082",
   "metadata": {},
   "source": [
    "Подготовим Pool для модели."
   ]
  },
  {
   "cell_type": "code",
   "execution_count": 17,
   "id": "d85279cf",
   "metadata": {},
   "outputs": [],
   "source": [
    "q_tr = data_tr[\"query_id\"]\n",
    "y_tr = data_tr[\"rank\"]\n",
    "X_tr = data_tr.drop([\"rank\", \"query_id\", \"tmp\"], axis=1)\n",
    "\n",
    "q_val = data_val[\"query_id\"]\n",
    "y_val = data_val[\"rank\"]\n",
    "X_val = data_val.drop([\"rank\", \"query_id\", \"tmp\"], axis=1)\n",
    "\n",
    "q_test = data_test[\"query_id\"]\n",
    "y_test = data_test[\"rank\"]\n",
    "X_test = data_test.drop([\"rank\", \"query_id\", \"tmp\"], axis=1)"
   ]
  },
  {
   "cell_type": "markdown",
   "id": "ec7e06b7",
   "metadata": {},
   "source": [
    "Лейблы должны быть от 0 до 1:"
   ]
  },
  {
   "cell_type": "code",
   "execution_count": 18,
   "id": "26c6b68e",
   "metadata": {},
   "outputs": [],
   "source": [
    "max_y = np.max(y_tr)\n",
    "y_tr /= max_y\n",
    "y_val /= max_y\n",
    "y_test /= max_y"
   ]
  },
  {
   "cell_type": "code",
   "execution_count": 19,
   "id": "85e4c550",
   "metadata": {},
   "outputs": [],
   "source": [
    "pool_tr = Pool(\n",
    "    data=FeaturesData(\n",
    "        num_feature_data=X_tr.values.astype(np.float32),\n",
    "        num_feature_names=list(X_tr)\n",
    "    ),\n",
    "    label=y_tr.values,\n",
    "    group_id=q_tr.values\n",
    ")\n",
    "\n",
    "pool_val = Pool(\n",
    "    data=FeaturesData(\n",
    "        num_feature_data=X_val.values.astype(np.float32),\n",
    "        num_feature_names=list(X_val)\n",
    "    ),\n",
    "    label=y_val.values,\n",
    "    group_id=q_val.values\n",
    ")\n",
    "\n",
    "pool_test = Pool(\n",
    "    data=FeaturesData(\n",
    "        num_feature_data=X_test.values.astype(np.float32),\n",
    "        num_feature_names=list(X_test)\n",
    "    ),\n",
    "    label=y_test.values,\n",
    "    group_id=q_test.values\n",
    ")"
   ]
  },
  {
   "cell_type": "markdown",
   "id": "b206cdf5",
   "metadata": {},
   "source": [
    "# FIT"
   ]
  },
  {
   "cell_type": "code",
   "execution_count": 20,
   "id": "044758da",
   "metadata": {},
   "outputs": [],
   "source": [
    "from catboost import CatBoostRanker, metrics"
   ]
  },
  {
   "cell_type": "code",
   "execution_count": 20,
   "id": "b91c1371",
   "metadata": {
    "execution": {
     "iopub.execute_input": "2024-04-28T12:53:09.688132Z",
     "iopub.status.busy": "2024-04-28T12:53:09.687809Z",
     "iopub.status.idle": "2024-04-28T12:53:09.700078Z",
     "shell.execute_reply": "2024-04-28T12:53:09.699167Z",
     "shell.execute_reply.started": "2024-04-28T12:53:09.688095Z"
    }
   },
   "outputs": [],
   "source": [
    "model = CatBoostRanker(iterations=2000,\n",
    "                       random_seed=42,\n",
    "                       loss_function='YetiRankPairwise',\n",
    "                       custom_metric=[metrics.NDCG(top=5), metrics.PrecisionAt(top=5),\n",
    "                                      metrics.RecallAt(top=5), metrics.MAP(top=5),],\n",
    "                       eval_metric=metrics.NDCG(top=5),\n",
    "                       od_type = 'Iter',\n",
    "                       od_wait = 200,\n",
    "                       use_best_model=True,\n",
    "                       task_type=\"GPU\",\n",
    "                       devices='0',)"
   ]
  },
  {
   "cell_type": "code",
   "execution_count": null,
   "id": "32def404",
   "metadata": {
    "scrolled": true
   },
   "outputs": [],
   "source": [
    "res = []\n",
    "for lr in (2e-4, 1e-3, 1e-2, 1e-1, 5e-1, 8e-1):\n",
    "    for l2 in (0.01, 0.1, 0, 0.5, 1, 2):\n",
    "        params = model.get_params()\n",
    "        params.update({'learning_rate': lr, 'l2_leaf_reg': l2})\n",
    "        model = CatBoostRanker(**params)\n",
    "        model.fit(pool_tr, eval_set=pool_val, verbose=False, plot=True)\n",
    "        res.append({\"lr\": lr, \"l2\": l2, \"NDCG@5_score\": model.score(pool_val,top=5)})\n",
    "print(*res, sep='\\n')"
   ]
  },
  {
   "cell_type": "markdown",
   "id": "0d41559e-2b03-48cc-8499-30dca5df601a",
   "metadata": {},
   "source": [
    "Лучший результат при параметрах:"
   ]
  },
  {
   "cell_type": "code",
   "execution_count": 27,
   "id": "c0495642",
   "metadata": {
    "execution": {
     "iopub.execute_input": "2024-04-28T13:15:34.118004Z",
     "iopub.status.busy": "2024-04-28T13:15:34.117050Z",
     "iopub.status.idle": "2024-04-28T13:15:34.124770Z",
     "shell.execute_reply": "2024-04-28T13:15:34.123781Z",
     "shell.execute_reply.started": "2024-04-28T13:15:34.117961Z"
    }
   },
   "outputs": [
    {
     "data": {
      "text/plain": [
       "{'lr': 0.8, 'l2': 2, 'NDCG@5_score': 0.6606557704044311}"
      ]
     },
     "execution_count": 27,
     "metadata": {},
     "output_type": "execute_result"
    }
   ],
   "source": [
    "res.sort(key=lambda x: -x[\"NDCG@5_score\"])\n",
    "res[0]"
   ]
  },
  {
   "cell_type": "markdown",
   "id": "b1bc2716",
   "metadata": {},
   "source": [
    "# TEST"
   ]
  },
  {
   "cell_type": "markdown",
   "id": "165a9407-32b5-4c66-90a4-a8873a7bcfdf",
   "metadata": {},
   "source": [
    "Обучимся теперь на всей обучающей выборке и посмотрим метрики на test."
   ]
  },
  {
   "cell_type": "code",
   "execution_count": 21,
   "id": "8d9e5403",
   "metadata": {},
   "outputs": [],
   "source": [
    "data_tr_val.sort_index(inplace=True)"
   ]
  },
  {
   "cell_type": "code",
   "execution_count": 22,
   "id": "906f9628",
   "metadata": {},
   "outputs": [],
   "source": [
    "q_tr_val = data_tr_val[\"query_id\"]\n",
    "y_tr_val = data_tr_val[\"rank\"]\n",
    "X_tr_val = data_tr_val.drop([\"rank\", \"query_id\", \"tmp\"], axis=1)"
   ]
  },
  {
   "cell_type": "code",
   "execution_count": 23,
   "id": "87363aae",
   "metadata": {},
   "outputs": [],
   "source": [
    "y_tr_val /= max_y"
   ]
  },
  {
   "cell_type": "code",
   "execution_count": 24,
   "id": "d33729fb",
   "metadata": {},
   "outputs": [],
   "source": [
    "pool_tr_val = Pool(\n",
    "    data=FeaturesData(\n",
    "        num_feature_data=X_tr_val.values.astype(np.float32),\n",
    "        num_feature_names=list(X_tr_val)\n",
    "    ),\n",
    "    label=y_tr_val.values,\n",
    "    group_id=q_tr_val.values\n",
    ")"
   ]
  },
  {
   "cell_type": "code",
   "execution_count": 25,
   "id": "a28673c9",
   "metadata": {},
   "outputs": [],
   "source": [
    "model = CatBoostRanker(iterations=2000,\n",
    "                       random_seed=42,\n",
    "                       learning_rate=0.8,\n",
    "                       l2_leaf_reg=2,\n",
    "                       loss_function='YetiRankPairwise',\n",
    "                       custom_metric=[metrics.NDCG(top=5), metrics.PrecisionAt(top=5),\n",
    "                                      metrics.RecallAt(top=5), metrics.MAP(top=5),],\n",
    "                       eval_metric=metrics.NDCG(top=5),\n",
    "                       od_type = 'Iter',\n",
    "                       od_wait = 200,\n",
    "                       use_best_model=True,\n",
    "                       task_type=\"GPU\",\n",
    "                       devices='0',)"
   ]
  },
  {
   "cell_type": "code",
   "execution_count": 26,
   "id": "db97493f",
   "metadata": {},
   "outputs": [
    {
     "data": {
      "application/vnd.jupyter.widget-view+json": {
       "model_id": "f9555e5e72ca4828b41018d7211c5ef0",
       "version_major": 2,
       "version_minor": 0
      },
      "text/plain": [
       "MetricVisualizer(layout=Layout(align_self='stretch', height='500px'))"
      ]
     },
     "metadata": {},
     "output_type": "display_data"
    },
    {
     "name": "stderr",
     "output_type": "stream",
     "text": [
      "Default metric period is 5 because PFound, PrecisionAt, RecallAt, MAP, NDCG is/are not implemented for GPU\n",
      "Metric PFound is not implemented on GPU. Will use CPU for metric computation, this could significantly affect learning time\n",
      "Metric NDCG:top=5;type=Base is not implemented on GPU. Will use CPU for metric computation, this could significantly affect learning time\n",
      "Metric NDCG:top=5;type=Base is not implemented on GPU. Will use CPU for metric computation, this could significantly affect learning time\n",
      "Metric PrecisionAt:top=5 is not implemented on GPU. Will use CPU for metric computation, this could significantly affect learning time\n",
      "Metric RecallAt:top=5 is not implemented on GPU. Will use CPU for metric computation, this could significantly affect learning time\n",
      "Metric MAP:top=5 is not implemented on GPU. Will use CPU for metric computation, this could significantly affect learning time\n"
     ]
    },
    {
     "data": {
      "text/plain": [
       "<catboost.core.CatBoostRanker at 0x26914a3c490>"
      ]
     },
     "execution_count": 26,
     "metadata": {},
     "output_type": "execute_result"
    }
   ],
   "source": [
    "model.fit(pool_tr_val, eval_set=pool_test, verbose=False, plot=True)"
   ]
  },
  {
   "cell_type": "markdown",
   "id": "e7597bff-f0fa-4202-a0c5-146254cd39d5",
   "metadata": {},
   "source": [
    "Итого:\n",
    " - NDCG@5: 0.6264916617\n",
    " - PFound: 0.6275483225\n",
    " - RecallAt@5: 0.8510543535"
   ]
  },
  {
   "cell_type": "code",
   "execution_count": null,
   "id": "a6a99854-0c6b-408b-9f25-a6ae56baf2b8",
   "metadata": {},
   "outputs": [],
   "source": []
  }
 ],
 "metadata": {
  "kaggle": {
   "accelerator": "gpu",
   "dataSources": [
    {
     "datasetId": 4897544,
     "sourceId": 8253417,
     "sourceType": "datasetVersion"
    }
   ],
   "dockerImageVersionId": 30699,
   "isGpuEnabled": true,
   "isInternetEnabled": true,
   "language": "python",
   "sourceType": "notebook"
  },
  "kernelspec": {
   "display_name": "Python 3 (ipykernel)",
   "language": "python",
   "name": "python3"
  },
  "language_info": {
   "codemirror_mode": {
    "name": "ipython",
    "version": 3
   },
   "file_extension": ".py",
   "mimetype": "text/x-python",
   "name": "python",
   "nbconvert_exporter": "python",
   "pygments_lexer": "ipython3",
   "version": "3.11.4"
  }
 },
 "nbformat": 4,
 "nbformat_minor": 5
}
